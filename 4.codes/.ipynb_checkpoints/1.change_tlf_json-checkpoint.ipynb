{
 "cells": [
  {
   "cell_type": "code",
   "execution_count": 1,
   "id": "b363e1d5",
   "metadata": {},
   "outputs": [],
   "source": [
    "import pandas as pd\n",
    "import json"
   ]
  },
  {
   "cell_type": "code",
   "execution_count": 2,
   "id": "7ce88bdb",
   "metadata": {},
   "outputs": [
    {
     "name": "stdout",
     "output_type": "stream",
     "text": [
      "GasMaterials\n",
      "GlazingMaterials\n",
      "OpaqueMaterials\n",
      "OpaqueConstructions\n",
      "WindowConstructions\n",
      "StructureDefinitions\n",
      "DaySchedules\n",
      "WeekSchedules\n",
      "YearSchedules\n",
      "DomesticHotWaterSettings\n",
      "VentilationSettings\n",
      "ZoneConditionings\n",
      "ZoneConstructionSets\n",
      "ZoneLoads\n",
      "Zones\n",
      "BuildingTemplates\n",
      "WindowSettings\n"
     ]
    }
   ],
   "source": [
    "data_path = \"../3.rhino/umi/umi_test/umi_test_0_open/BostonTemplateLibrary.json\"\n",
    "\n",
    "with open(data_path, 'r') as f:\n",
    "    data = json.load(f)\n",
    "\n",
    "for k in data.keys():\n",
    "    print(k)"
   ]
  },
  {
   "cell_type": "code",
   "execution_count": 7,
   "id": "7097d242",
   "metadata": {
    "scrolled": true
   },
   "outputs": [
    {
     "name": "stdout",
     "output_type": "stream",
     "text": [
      "{'$id': '185', 'CoolingSchedule': {'$ref': '162'}, 'CoolingCoeffOfPerf': 3.0, 'CoolingSetpoint': 24.0, 'CoolingLimitType': 0, 'EconomizerType': 0, 'HeatingCoeffOfPerf': 0.9, 'HeatingLimitType': 0, 'HeatingSchedule': {'$ref': '161'}, 'HeatingSetpoint': 20.0, 'HeatRecoveryEfficiencyLatent': 0.65, 'HeatRecoveryEfficiencySensible': 0.7, 'HeatRecoveryType': 0, 'IsCoolingOn': True, 'IsHeatingOn': True, 'IsMechVentOn': True, 'MaxCoolFlow': 100.0, 'MaxCoolingCapacity': 100.0, 'MaxHeatFlow': 100.0, 'MaxHeatingCapacity': 100.0, 'MechVentSchedule': {'$ref': '157'}, 'MinFreshAirPerArea': 0.0003, 'MinFreshAirPerPerson': 0.0025, 'Category': 'Office Spaces', 'Comments': None, 'DataSource': 'MIT_SDL', 'Name': 'Boston_Off_0 conditioning'}\n",
      "{'$id': '186', 'CoolingSchedule': {'$ref': '169'}, 'CoolingCoeffOfPerf': 3.0, 'CoolingSetpoint': 24.0, 'CoolingLimitType': 0, 'EconomizerType': 0, 'HeatingCoeffOfPerf': 0.9, 'HeatingLimitType': 0, 'HeatingSchedule': {'$ref': '168'}, 'HeatingSetpoint': 20.0, 'HeatRecoveryEfficiencyLatent': 0.65, 'HeatRecoveryEfficiencySensible': 0.7, 'HeatRecoveryType': 0, 'IsCoolingOn': True, 'IsHeatingOn': True, 'IsMechVentOn': True, 'MaxCoolFlow': 100.0, 'MaxCoolingCapacity': 100.0, 'MaxHeatFlow': 100.0, 'MaxHeatingCapacity': 100.0, 'MechVentSchedule': {'$ref': '164'}, 'MinFreshAirPerArea': 0.0006, 'MinFreshAirPerPerson': 0.0, 'Category': 'Retail', 'Comments': None, 'DataSource': 'MIT_SDL', 'Name': 'Boston_Ret_0 conditioning'}\n",
      "{'$id': '187', 'CoolingSchedule': {'$ref': '155'}, 'CoolingCoeffOfPerf': 3.0, 'CoolingSetpoint': 24.0, 'CoolingLimitType': 0, 'EconomizerType': 0, 'HeatingCoeffOfPerf': 0.9, 'HeatingLimitType': 0, 'HeatingSchedule': {'$ref': '154'}, 'HeatingSetpoint': 20.0, 'HeatRecoveryEfficiencyLatent': 0.65, 'HeatRecoveryEfficiencySensible': 0.7, 'HeatRecoveryType': 0, 'IsCoolingOn': True, 'IsHeatingOn': True, 'IsMechVentOn': False, 'MaxCoolFlow': 100.0, 'MaxCoolingCapacity': 100.0, 'MaxHeatFlow': 100.0, 'MaxHeatingCapacity': 100.0, 'MechVentSchedule': {'$ref': '150'}, 'MinFreshAirPerArea': 0.0, 'MinFreshAirPerPerson': 0.0, 'Category': 'Residential and Lodging', 'Comments': None, 'DataSource': 'MIT_SDL', 'Name': 'Boston_Res_0 conditioning'}\n",
      "{'$id': '188', 'CoolingSchedule': {'$ref': '149'}, 'CoolingCoeffOfPerf': 3.0, 'CoolingSetpoint': 30.0, 'CoolingLimitType': 0, 'EconomizerType': 0, 'HeatingCoeffOfPerf': 0.9, 'HeatingLimitType': 0, 'HeatingSchedule': {'$ref': '149'}, 'HeatingSetpoint': 21.0, 'HeatRecoveryEfficiencyLatent': 0.65, 'HeatRecoveryEfficiencySensible': 0.7, 'HeatRecoveryType': 0, 'IsCoolingOn': True, 'IsHeatingOn': True, 'IsMechVentOn': True, 'MaxCoolFlow': 100.0, 'MaxCoolingCapacity': 100.0, 'MaxHeatFlow': 100.0, 'MaxHeatingCapacity': 100.0, 'MechVentSchedule': {'$ref': '149'}, 'MinFreshAirPerArea': 0.06, 'MinFreshAirPerPerson': 0.0, 'Category': 'CEA_Farms', 'Comments': None, 'DataSource': None, 'Name': 'CEA_R_Conditioning'}\n",
      "{'$id': '189', 'CoolingSchedule': {'$ref': '149'}, 'CoolingCoeffOfPerf': 3.0, 'CoolingSetpoint': 30.0, 'CoolingLimitType': 0, 'EconomizerType': 0, 'HeatingCoeffOfPerf': 0.9, 'HeatingLimitType': 0, 'HeatingSchedule': {'$ref': '149'}, 'HeatingSetpoint': 18.0, 'HeatRecoveryEfficiencyLatent': 0.65, 'HeatRecoveryEfficiencySensible': 0.7, 'HeatRecoveryType': 0, 'IsCoolingOn': True, 'IsHeatingOn': True, 'IsMechVentOn': True, 'MaxCoolFlow': 100.0, 'MaxCoolingCapacity': 100.0, 'MaxHeatFlow': 100.0, 'MaxHeatingCapacity': 100.0, 'MechVentSchedule': {'$ref': '149'}, 'MinFreshAirPerArea': 0.06, 'MinFreshAirPerPerson': 0.0, 'Category': 'CEA_Farms', 'Comments': None, 'DataSource': None, 'Name': 'CEA_O_Conditioning'}\n",
      "{'$id': '190', 'CoolingSchedule': {'$ref': '149'}, 'CoolingCoeffOfPerf': 3.0, 'CoolingSetpoint': 24.0, 'CoolingLimitType': 0, 'EconomizerType': 0, 'HeatingCoeffOfPerf': 0.9, 'HeatingLimitType': 0, 'HeatingSchedule': {'$ref': '149'}, 'HeatingSetpoint': 13.0, 'HeatRecoveryEfficiencyLatent': 0.65, 'HeatRecoveryEfficiencySensible': 0.7, 'HeatRecoveryType': 0, 'IsCoolingOn': True, 'IsHeatingOn': True, 'IsMechVentOn': True, 'MaxCoolFlow': 100.0, 'MaxCoolingCapacity': 100.0, 'MaxHeatFlow': 100.0, 'MaxHeatingCapacity': 100.0, 'MechVentSchedule': {'$ref': '149'}, 'MinFreshAirPerArea': 0.06, 'MinFreshAirPerPerson': 0.0, 'Category': 'CEA_Farms', 'Comments': None, 'DataSource': None, 'Name': 'CEA_LG_Conditioning'}\n",
      "{'$id': '191', 'CoolingSchedule': {'$ref': '149'}, 'CoolingCoeffOfPerf': 3.0, 'CoolingSetpoint': 18.0, 'CoolingLimitType': 0, 'EconomizerType': 0, 'HeatingCoeffOfPerf': 0.9, 'HeatingLimitType': 0, 'HeatingSchedule': {'$ref': '149'}, 'HeatingSetpoint': 15.0, 'HeatRecoveryEfficiencyLatent': 0.65, 'HeatRecoveryEfficiencySensible': 0.7, 'HeatRecoveryType': 0, 'IsCoolingOn': True, 'IsHeatingOn': True, 'IsMechVentOn': True, 'MaxCoolFlow': 100.0, 'MaxCoolingCapacity': 100.0, 'MaxHeatFlow': 100.0, 'MaxHeatingCapacity': 100.0, 'MechVentSchedule': {'$ref': '149'}, 'MinFreshAirPerArea': 0.06, 'MinFreshAirPerPerson': 0.0, 'Category': 'CEA_Farms', 'Comments': None, 'DataSource': None, 'Name': 'CEA_DG_Conditioning'}\n"
     ]
    }
   ],
   "source": [
    "# ZoneConditionings에 'CoolingSetpoint', 'HeatingSetpoint'\n",
    "\n",
    "for d in data['ZoneConditionings']:\n",
    "    print(d)"
   ]
  },
  {
   "cell_type": "code",
   "execution_count": 9,
   "id": "693cf175",
   "metadata": {
    "collapsed": true
   },
   "outputs": [
    {
     "name": "stdout",
     "output_type": "stream",
     "text": [
      "{'$id': '196', 'DimmingType': 1, 'EquipmentAvailabilitySchedule': {'$ref': '159'}, 'EquipmentPowerDensity': 8.0, 'IlluminanceTarget': 500.0, 'LightingPowerDensity': 12.0, 'LightsAvailabilitySchedule': {'$ref': '158'}, 'OccupancySchedule': {'$ref': '157'}, 'IsEquipmentOn': True, 'IsLightingOn': True, 'IsPeopleOn': True, 'PeopleDensity': 0.055, 'Category': 'Office Spaces', 'Comments': None, 'DataSource': 'MIT_SDL', 'Name': 'Boston_Off_0 loads'}\n",
      "{'$id': '197', 'DimmingType': 1, 'EquipmentAvailabilitySchedule': {'$ref': '166'}, 'EquipmentPowerDensity': 6.0, 'IlluminanceTarget': 300.0, 'LightingPowerDensity': 16.0, 'LightsAvailabilitySchedule': {'$ref': '166'}, 'OccupancySchedule': {'$ref': '164'}, 'IsEquipmentOn': True, 'IsLightingOn': True, 'IsPeopleOn': True, 'PeopleDensity': 0.1, 'Category': 'Retail', 'Comments': None, 'DataSource': 'MIT_SDL', 'Name': 'Boston_Ret_0 loads'}\n",
      "{'$id': '198', 'DimmingType': 1, 'EquipmentAvailabilitySchedule': {'$ref': '152'}, 'EquipmentPowerDensity': 4.0, 'IlluminanceTarget': 200.0, 'LightingPowerDensity': 7.0, 'LightsAvailabilitySchedule': {'$ref': '151'}, 'OccupancySchedule': {'$ref': '150'}, 'IsEquipmentOn': True, 'IsLightingOn': True, 'IsPeopleOn': True, 'PeopleDensity': 0.025, 'Category': 'Residential and Lodging', 'Comments': None, 'DataSource': 'MIT_SDL', 'Name': 'Boston_Res_0 loads'}\n",
      "{'$id': '199', 'DimmingType': 1, 'EquipmentAvailabilitySchedule': {'$ref': '149'}, 'EquipmentPowerDensity': 6.0, 'IlluminanceTarget': 2818.0, 'LightingPowerDensity': 42.0, 'LightsAvailabilitySchedule': {'$ref': '172'}, 'OccupancySchedule': {'$ref': '171'}, 'IsEquipmentOn': True, 'IsLightingOn': True, 'IsPeopleOn': True, 'PeopleDensity': 0.01, 'Category': 'CEA_Farms', 'Comments': None, 'DataSource': None, 'Name': 'CEA_R_Loads'}\n",
      "{'$id': '200', 'DimmingType': 1, 'EquipmentAvailabilitySchedule': {'$ref': '149'}, 'EquipmentPowerDensity': 6.0, 'IlluminanceTarget': 3010.0, 'LightingPowerDensity': 42.0, 'LightsAvailabilitySchedule': {'$ref': '174'}, 'OccupancySchedule': {'$ref': '171'}, 'IsEquipmentOn': True, 'IsLightingOn': True, 'IsPeopleOn': True, 'PeopleDensity': 0.01, 'Category': 'CEA_Farms', 'Comments': None, 'DataSource': None, 'Name': 'CEA_O_Loads'}\n",
      "{'$id': '201', 'DimmingType': 1, 'EquipmentAvailabilitySchedule': {'$ref': '149'}, 'EquipmentPowerDensity': 6.0, 'IlluminanceTarget': 3325.0, 'LightingPowerDensity': 84.0, 'LightsAvailabilitySchedule': {'$ref': '175'}, 'OccupancySchedule': {'$ref': '171'}, 'IsEquipmentOn': True, 'IsLightingOn': True, 'IsPeopleOn': True, 'PeopleDensity': 0.01, 'Category': 'CEA_Farms', 'Comments': None, 'DataSource': None, 'Name': 'CEA_LG_Loads'}\n",
      "{'$id': '202', 'DimmingType': 1, 'EquipmentAvailabilitySchedule': {'$ref': '149'}, 'EquipmentPowerDensity': 6.0, 'IlluminanceTarget': 3072.0, 'LightingPowerDensity': 57.0, 'LightsAvailabilitySchedule': {'$ref': '176'}, 'OccupancySchedule': {'$ref': '171'}, 'IsEquipmentOn': True, 'IsLightingOn': True, 'IsPeopleOn': True, 'PeopleDensity': 0.01, 'Category': 'CEA_Farms', 'Comments': None, 'DataSource': None, 'Name': 'CEA_DG_Loads'}\n"
     ]
    }
   ],
   "source": [
    "# ZoneLoads에 'EquipmentPowerDensity', 'LightingPowerDensity', 'PeopleDensity'\n",
    "\n",
    "for d in data['ZoneLoads']:\n",
    "    print(d)"
   ]
  },
  {
   "cell_type": "code",
   "execution_count": 11,
   "id": "20386718",
   "metadata": {
    "collapsed": true
   },
   "outputs": [
    {
     "name": "stdout",
     "output_type": "stream",
     "text": [
      "{'$id': '181', 'Afn': False, 'IsBuoyancyOn': True, 'Infiltration': 0.35, 'IsInfiltrationOn': True, 'IsNatVentOn': False, 'IsScheduledVentilationOn': False, 'NatVentMaxRelHumidity': 80.0, 'NatVentMaxOutdoorAirTemp': 26.0, 'NatVentMinOutdoorAirTemp': 20.0, 'NatVentSchedule': {'$ref': '163'}, 'NatVentZoneTempSetpoint': 22.0, 'ScheduledVentilationAch': 0.6, 'ScheduledVentilationSchedule': {'$ref': '163'}, 'ScheduledVentilationSetpoint': 22.0, 'IsWindOn': False, 'Category': 'Office Spaces', 'Comments': None, 'DataSource': 'MIT_SDL', 'Name': 'Boston_Off_0 ventilation'}\n",
      "{'$id': '182', 'Afn': False, 'IsBuoyancyOn': True, 'Infiltration': 0.35, 'IsInfiltrationOn': True, 'IsNatVentOn': False, 'IsScheduledVentilationOn': False, 'NatVentMaxRelHumidity': 80.0, 'NatVentMaxOutdoorAirTemp': 26.0, 'NatVentMinOutdoorAirTemp': 20.0, 'NatVentSchedule': {'$ref': '170'}, 'NatVentZoneTempSetpoint': 22.0, 'ScheduledVentilationAch': 0.6, 'ScheduledVentilationSchedule': {'$ref': '170'}, 'ScheduledVentilationSetpoint': 22.0, 'IsWindOn': False, 'Category': 'Retail', 'Comments': None, 'DataSource': 'MIT_SDL', 'Name': 'Boston_Ret_0 ventilation'}\n",
      "{'$id': '183', 'Afn': False, 'IsBuoyancyOn': True, 'Infiltration': 0.35, 'IsInfiltrationOn': True, 'IsNatVentOn': False, 'IsScheduledVentilationOn': False, 'NatVentMaxRelHumidity': 80.0, 'NatVentMaxOutdoorAirTemp': 26.0, 'NatVentMinOutdoorAirTemp': 18.0, 'NatVentSchedule': {'$ref': '156'}, 'NatVentZoneTempSetpoint': 22.0, 'ScheduledVentilationAch': 0.6, 'ScheduledVentilationSchedule': {'$ref': '156'}, 'ScheduledVentilationSetpoint': 22.0, 'IsWindOn': False, 'Category': 'Residential and Lodging', 'Comments': None, 'DataSource': 'MIT_SDL', 'Name': 'Boston_Res_0 ventilation'}\n",
      "{'$id': '184', 'Afn': False, 'IsBuoyancyOn': True, 'Infiltration': 0.35, 'IsInfiltrationOn': True, 'IsNatVentOn': False, 'IsScheduledVentilationOn': False, 'NatVentMaxRelHumidity': 90.0, 'NatVentMaxOutdoorAirTemp': 30.0, 'NatVentMinOutdoorAirTemp': 0.0, 'NatVentSchedule': {'$ref': '149'}, 'NatVentZoneTempSetpoint': 18.0, 'ScheduledVentilationAch': 0.6, 'ScheduledVentilationSchedule': {'$ref': '149'}, 'ScheduledVentilationSetpoint': 18.0, 'IsWindOn': False, 'Category': 'CEA_Farms', 'Comments': None, 'DataSource': None, 'Name': 'CEA_Ventilation'}\n"
     ]
    }
   ],
   "source": [
    "# VentilationSettings에 'Infiltration'\n",
    "\n",
    "for d in data['VentilationSettings']:\n",
    "    print(d)"
   ]
  },
  {
   "cell_type": "code",
   "execution_count": 13,
   "id": "2c059b18",
   "metadata": {
    "scrolled": true
   },
   "outputs": [
    {
     "name": "stdout",
     "output_type": "stream",
     "text": [
      "{'$id': '10', 'MoistureDiffusionResistance': 50.0, 'Roughness': 'Rough', 'SolarAbsorptance': 0.6, 'SpecificHeat': 1200.0, 'ThermalEmittance': 0.85, 'VisibleAbsorptance': 0.6, 'Conductivity': 0.14, 'Cost': 0.0, 'Density': 650.0, 'EmbodiedCarbon': 0.45, 'EmbodiedEnergy': 7.4, 'SubstitutionRatePattern': [0.5, 1.0], 'SubstitutionTimestep': 20.0, 'TransportCarbon': 0.067, 'TransportDistance': 500.0, 'TransportEnergy': 0.94, 'Category': 'Uncategorized', 'Comments': None, 'DataSource': 'default', 'Name': 'Boston_Wood_Floor'}\n",
      "{'$id': '11', 'MoistureDiffusionResistance': 50.0, 'Roughness': 'Rough', 'SolarAbsorptance': 0.7, 'SpecificHeat': 840.0, 'ThermalEmittance': 0.9, 'VisibleAbsorptance': 0.7, 'Conductivity': 1.25, 'Cost': 0.0, 'Density': 880.0, 'EmbodiedCarbon': 0.08, 'EmbodiedEnergy': 0.71, 'SubstitutionRatePattern': [0.2], 'SubstitutionTimestep': 50.0, 'TransportCarbon': 0.067, 'TransportDistance': 500.0, 'TransportEnergy': 0.94, 'Category': 'Uncategorized', 'Comments': None, 'DataSource': 'default', 'Name': 'Boston_Concrete_Block_H'}\n",
      "{'$id': '12', 'MoistureDiffusionResistance': 50.0, 'Roughness': 'Rough', 'SolarAbsorptance': 0.7, 'SpecificHeat': 1000.0, 'ThermalEmittance': 0.01, 'VisibleAbsorptance': 0.7, 'Conductivity': 0.1, 'Cost': 0.0, 'Density': 1.2, 'EmbodiedCarbon': 0.0, 'EmbodiedEnergy': 0.0, 'SubstitutionRatePattern': [1.0], 'SubstitutionTimestep': 100.0, 'TransportCarbon': 0.0, 'TransportDistance': 0.0, 'TransportEnergy': 0.0, 'Category': 'Uncategorized', 'Comments': None, 'DataSource': 'default', 'Name': 'Boston_Air_Wall_3cm'}\n",
      "{'$id': '13', 'MoistureDiffusionResistance': 50.0, 'Roughness': 'Rough', 'SolarAbsorptance': 0.7, 'SpecificHeat': 840.0, 'ThermalEmittance': 0.9, 'VisibleAbsorptance': 0.7, 'Conductivity': 1.75, 'Cost': 0.0, 'Density': 2400.0, 'EmbodiedCarbon': 0.24, 'EmbodiedEnergy': 2.12, 'SubstitutionRatePattern': [1.0], 'SubstitutionTimestep': 100.0, 'TransportCarbon': 0.067, 'TransportDistance': 500.0, 'TransportEnergy': 0.94, 'Category': 'Uncategorized', 'Comments': None, 'DataSource': 'default', 'Name': 'Boston_Concrete_RC_Dense'}\n",
      "{'$id': '14', 'MoistureDiffusionResistance': 50.0, 'Roughness': 'Rough', 'SolarAbsorptance': 0.7, 'SpecificHeat': 1040.0, 'ThermalEmittance': 0.9, 'VisibleAbsorptance': 0.7, 'Conductivity': 1.65, 'Cost': 0.0, 'Density': 2100.0, 'EmbodiedCarbon': 0.24, 'EmbodiedEnergy': 2.12, 'SubstitutionRatePattern': [1.0], 'SubstitutionTimestep': 100.0, 'TransportCarbon': 0.067, 'TransportDistance': 500.0, 'TransportEnergy': 0.94, 'Category': 'Uncategorized', 'Comments': None, 'DataSource': 'default', 'Name': 'Boston_Concrete_MC_Light'}\n",
      "{'$id': '15', 'MoistureDiffusionResistance': 50.0, 'Roughness': 'Rough', 'SolarAbsorptance': 0.7, 'SpecificHeat': 840.0, 'ThermalEmittance': 0.9, 'VisibleAbsorptance': 0.7, 'Conductivity': 1.77, 'Cost': 0.0, 'Density': 1900.0, 'EmbodiedCarbon': 0.08, 'EmbodiedEnergy': 0.71, 'SubstitutionRatePattern': [0.2], 'SubstitutionTimestep': 50.0, 'TransportCarbon': 0.067, 'TransportDistance': 500.0, 'TransportEnergy': 0.94, 'Category': 'Uncategorized', 'Comments': None, 'DataSource': 'default', 'Name': 'Boston_Concrete_Block_S'}\n",
      "{'$id': '16', 'MoistureDiffusionResistance': 50.0, 'Roughness': 'Rough', 'SolarAbsorptance': 0.6, 'SpecificHeat': 840.0, 'ThermalEmittance': 0.9, 'VisibleAbsorptance': 0.6, 'Conductivity': 0.16, 'Cost': 0.0, 'Density': 950.0, 'EmbodiedCarbon': 0.38, 'EmbodiedEnergy': 6.75, 'SubstitutionRatePattern': [0.02, 0.1, 1.0], 'SubstitutionTimestep': 20.0, 'TransportCarbon': 0.067, 'TransportDistance': 500.0, 'TransportEnergy': 0.94, 'Category': 'Uncategorized', 'Comments': None, 'DataSource': 'default', 'Name': 'Boston_Gypsum_Board'}\n",
      "{'$id': '17', 'MoistureDiffusionResistance': 50.0, 'Roughness': 'Rough', 'SolarAbsorptance': 0.5, 'SpecificHeat': 920.0, 'ThermalEmittance': 0.9, 'VisibleAbsorptance': 0.5, 'Conductivity': 0.41, 'Cost': 0.0, 'Density': 1000.0, 'EmbodiedCarbon': 0.22, 'EmbodiedEnergy': 3.0, 'SubstitutionRatePattern': [0.2], 'SubstitutionTimestep': 50.0, 'TransportCarbon': 0.067, 'TransportDistance': 500.0, 'TransportEnergy': 0.94, 'Category': 'Uncategorized', 'Comments': None, 'DataSource': 'default', 'Name': 'Boston_Clay_Brick_H'}\n",
      "{'$id': '18', 'MoistureDiffusionResistance': 50.0, 'Roughness': 'Rough', 'SolarAbsorptance': 0.7, 'SpecificHeat': 1000.0, 'ThermalEmittance': 0.01, 'VisibleAbsorptance': 0.7, 'Conductivity': 0.7, 'Cost': 0.0, 'Density': 1.2, 'EmbodiedCarbon': 0.0, 'EmbodiedEnergy': 0.0, 'SubstitutionRatePattern': [1.0], 'SubstitutionTimestep': 100.0, 'TransportCarbon': 0.0, 'TransportDistance': 0.0, 'TransportEnergy': 0.0, 'Category': 'Uncategorized', 'Comments': None, 'DataSource': 'default', 'Name': 'Boston_Air_Floor_15cm'}\n",
      "{'$id': '19', 'MoistureDiffusionResistance': 50.0, 'Roughness': 'Rough', 'SolarAbsorptance': 0.4, 'SpecificHeat': 840.0, 'ThermalEmittance': 0.9, 'VisibleAbsorptance': 0.4, 'Conductivity': 0.8, 'Cost': 0.0, 'Density': 2243.0, 'EmbodiedCarbon': 0.59, 'EmbodiedEnergy': 9.0, 'SubstitutionRatePattern': [0.5, 1.0], 'SubstitutionTimestep': 20.0, 'TransportCarbon': 0.067, 'TransportDistance': 500.0, 'TransportEnergy': 0.94, 'Category': 'Uncategorized', 'Comments': None, 'DataSource': 'default', 'Name': 'Boston_Ceramic_Tile'}\n",
      "{'$id': '20', 'MoistureDiffusionResistance': 50.0, 'Roughness': 'Rough', 'SolarAbsorptance': 0.6, 'SpecificHeat': 1200.0, 'ThermalEmittance': 0.6, 'VisibleAbsorptance': 0.6, 'Conductivity': 0.037, 'Cost': 0.0, 'Density': 40.0, 'EmbodiedCarbon': 2.7, 'EmbodiedEnergy': 86.4, 'SubstitutionRatePattern': [0.02, 0.1, 1.0], 'SubstitutionTimestep': 20.0, 'TransportCarbon': 0.067, 'TransportDistance': 500.0, 'TransportEnergy': 0.94, 'Category': 'Uncategorized', 'Comments': None, 'DataSource': 'default', 'Name': 'Boston_XPS_Board'}\n",
      "{'$id': '21', 'MoistureDiffusionResistance': 50.0, 'Roughness': 'Rough', 'SolarAbsorptance': 0.7, 'SpecificHeat': 840.0, 'ThermalEmittance': 0.9, 'VisibleAbsorptance': 0.7, 'Conductivity': 0.42, 'Cost': 0.0, 'Density': 900.0, 'EmbodiedCarbon': 0.24, 'EmbodiedEnergy': 3.2, 'SubstitutionRatePattern': [0.02, 0.1, 1.0], 'SubstitutionTimestep': 20.0, 'TransportCarbon': 0.067, 'TransportDistance': 500.0, 'TransportEnergy': 0.94, 'Category': 'Uncategorized', 'Comments': None, 'DataSource': 'default', 'Name': 'Boston_Gypsum_Plaster'}\n",
      "{'$id': '22', 'MoistureDiffusionResistance': 50.0, 'Roughness': 'Rough', 'SolarAbsorptance': 0.8, 'SpecificHeat': 840.0, 'ThermalEmittance': 0.9, 'VisibleAbsorptance': 0.8, 'Conductivity': 0.8, 'Cost': 0.0, 'Density': 1900.0, 'EmbodiedCarbon': 0.18, 'EmbodiedEnergy': 1.34, 'SubstitutionRatePattern': [0.02, 0.1, 1.0], 'SubstitutionTimestep': 20.0, 'TransportCarbon': 0.067, 'TransportDistance': 500.0, 'TransportEnergy': 0.94, 'Category': 'Uncategorized', 'Comments': None, 'DataSource': 'default', 'Name': 'Boston_Cement_Mortar'}\n",
      "{'$id': '23', 'MoistureDiffusionResistance': 50.0, 'Roughness': 'Rough', 'SolarAbsorptance': 0.7, 'SpecificHeat': 1880.0, 'ThermalEmittance': 0.9, 'VisibleAbsorptance': 0.7, 'Conductivity': 0.11, 'Cost': 0.0, 'Density': 540.0, 'EmbodiedCarbon': 0.81, 'EmbodiedEnergy': 15.0, 'SubstitutionRatePattern': [0.2], 'SubstitutionTimestep': 30.0, 'TransportCarbon': 0.067, 'TransportDistance': 500.0, 'TransportEnergy': 0.94, 'Category': 'Uncategorized', 'Comments': None, 'DataSource': 'default', 'Name': 'Boston_Plywood_Board'}\n",
      "{'$id': '24', 'MoistureDiffusionResistance': 50.0, 'Roughness': 'Rough', 'SolarAbsorptance': 0.6, 'SpecificHeat': 840.0, 'ThermalEmittance': 0.9, 'VisibleAbsorptance': 0.6, 'Conductivity': 0.043, 'Cost': 0.0, 'Density': 12.0, 'EmbodiedCarbon': 1.35, 'EmbodiedEnergy': 28.0, 'SubstitutionRatePattern': [0.5], 'SubstitutionTimestep': 30.0, 'TransportCarbon': 0.067, 'TransportDistance': 1000.0, 'TransportEnergy': 0.94, 'Category': 'Uncategorized', 'Comments': None, 'DataSource': 'default', 'Name': 'Boston_Fiberglass_Batts'}\n",
      "{'$id': '25', 'MoistureDiffusionResistance': 50.0, 'Roughness': 'Rough', 'SolarAbsorptance': 0.7, 'SpecificHeat': 840.0, 'ThermalEmittance': 0.9, 'VisibleAbsorptance': 0.7, 'Conductivity': 0.045, 'Cost': 0.0, 'Density': 110.0, 'EmbodiedCarbon': 3.89, 'EmbodiedEnergy': 74.4, 'SubstitutionRatePattern': [1.0], 'SubstitutionTimestep': 5.0, 'TransportCarbon': 0.067, 'TransportDistance': 1000.0, 'TransportEnergy': 0.94, 'Category': 'Uncategorized', 'Comments': None, 'DataSource': 'default', 'Name': 'Boston_Urethane_Carpet'}\n",
      "{'$id': '26', 'MoistureDiffusionResistance': 50.0, 'Roughness': 'Rough', 'SolarAbsorptance': 0.6, 'SpecificHeat': 1630.0, 'ThermalEmittance': 0.9, 'VisibleAbsorptance': 0.6, 'Conductivity': 0.16, 'Cost': 0.0, 'Density': 680.0, 'EmbodiedCarbon': 0.45, 'EmbodiedEnergy': 7.5, 'SubstitutionRatePattern': [0.1, 0.1, 1.0], 'SubstitutionTimestep': 20.0, 'TransportCarbon': 0.067, 'TransportDistance': 500.0, 'TransportEnergy': 0.94, 'Category': 'Uncategorized', 'Comments': None, 'DataSource': 'default', 'Name': 'Boston_Hardwood_General'}\n",
      "{'$id': '27', 'MoistureDiffusionResistance': 50.0, 'Roughness': 'Rough', 'SolarAbsorptance': 0.6, 'SpecificHeat': 1630.0, 'ThermalEmittance': 0.9, 'VisibleAbsorptance': 0.6, 'Conductivity': 0.13, 'Cost': 0.0, 'Density': 496.0, 'EmbodiedCarbon': 0.45, 'EmbodiedEnergy': 7.5, 'SubstitutionRatePattern': [0.1, 0.1, 1.0], 'SubstitutionTimestep': 20.0, 'TransportCarbon': 0.067, 'TransportDistance': 500.0, 'TransportEnergy': 0.94, 'Category': 'Uncategorized', 'Comments': None, 'DataSource': 'default', 'Name': 'Boston_Softwood_General'}\n",
      "{'$id': '28', 'MoistureDiffusionResistance': 50.0, 'Roughness': 'Rough', 'SolarAbsorptance': 0.6, 'SpecificHeat': 1260.0, 'ThermalEmittance': 0.9, 'VisibleAbsorptance': 0.6, 'Conductivity': 1.59, 'Cost': 0.0, 'Density': 1920.0, 'EmbodiedCarbon': 0.032, 'EmbodiedEnergy': 0.55, 'SubstitutionRatePattern': [1.0], 'SubstitutionTimestep': 30.0, 'TransportCarbon': 0.067, 'TransportDistance': 500.0, 'TransportEnergy': 0.94, 'Category': 'Uncategorized', 'Comments': None, 'DataSource': 'default', 'Name': 'Boston_Slate_Tile'}\n",
      "{'$id': '29', 'MoistureDiffusionResistance': 50.0, 'Roughness': 'Rough', 'SolarAbsorptance': 0.6, 'SpecificHeat': 1300.0, 'ThermalEmittance': 0.9, 'VisibleAbsorptance': 0.6, 'Conductivity': 0.04, 'Cost': 0.0, 'Density': 592.0, 'EmbodiedCarbon': 0.47, 'EmbodiedEnergy': 7.8, 'SubstitutionRatePattern': [1.0], 'SubstitutionTimestep': 30.0, 'TransportCarbon': 0.067, 'TransportDistance': 500.0, 'TransportEnergy': 0.94, 'Category': 'Uncategorized', 'Comments': None, 'DataSource': 'default', 'Name': 'Boston_Wood_Shingle'}\n",
      "{'$id': '30', 'MoistureDiffusionResistance': 50.0, 'Roughness': 'Rough', 'SolarAbsorptance': 0.7, 'SpecificHeat': 1000.0, 'ThermalEmittance': 0.9, 'VisibleAbsorptance': 0.7, 'Conductivity': 0.16, 'Cost': 0.0, 'Density': 1380.0, 'EmbodiedCarbon': 2.41, 'EmbodiedEnergy': 77.2, 'SubstitutionRatePattern': [1.0], 'SubstitutionTimestep': 20.0, 'TransportCarbon': 0.067, 'TransportDistance': 500.0, 'TransportEnergy': 0.94, 'Category': 'Uncategorized', 'Comments': None, 'DataSource': 'default', 'Name': 'Boston_Vinyl_Cladding'}\n",
      "{'$id': '31', 'MoistureDiffusionResistance': 50.0, 'Roughness': 'Rough', 'SolarAbsorptance': 0.4, 'SpecificHeat': 500.0, 'ThermalEmittance': 0.9, 'VisibleAbsorptance': 0.4, 'Conductivity': 45.3, 'Cost': 0.0, 'Density': 7830.0, 'EmbodiedCarbon': 1.37, 'EmbodiedEnergy': 20.1, 'SubstitutionRatePattern': [1.0], 'SubstitutionTimestep': 100.0, 'TransportCarbon': 0.067, 'TransportDistance': 500.0, 'TransportEnergy': 0.94, 'Category': 'Uncategorized', 'Comments': None, 'DataSource': 'default', 'Name': 'Boston_Steel_General'}\n"
     ]
    }
   ],
   "source": [
    "# VentilationSettings에 'Infiltration'\n",
    "\n",
    "for d in data['OpaqueMaterials']:\n",
    "    print(d)"
   ]
  },
  {
   "cell_type": "code",
   "execution_count": 24,
   "id": "1be07a2e",
   "metadata": {},
   "outputs": [
    {
     "name": "stdout",
     "output_type": "stream",
     "text": [
      "{'$id': '32', 'Layers': [{'Material': {'$ref': '13'}, 'Thickness': 0.2}, {'Material': {'$ref': '23'}, 'Thickness': 0.015}, {'Material': {'$ref': '24'}, 'Thickness': 0.07}, {'Material': {'$ref': '16'}, 'Thickness': 0.015}], 'AssemblyCarbon': 0.0, 'AssemblyCost': 0.0, 'AssemblyEnergy': 0.0, 'DisassemblyCarbon': 0.0, 'DisassemblyEnergy': 0.0, 'Category': 'Facade', 'Comments': 'default', 'DataSource': 'default', 'Name': 'Boston_Res_Bas_0'}\n",
      "{'$id': '33', 'Layers': [{'Material': {'$ref': '30'}, 'Thickness': 0.003}, {'Material': {'$ref': '20'}, 'Thickness': 0.01}, {'Material': {'$ref': '23'}, 'Thickness': 0.015}, {'Material': {'$ref': '24'}, 'Thickness': 0.1}, {'Material': {'$ref': '16'}, 'Thickness': 0.015}], 'AssemblyCarbon': 0.0, 'AssemblyCost': 0.0, 'AssemblyEnergy': 0.0, 'DisassemblyCarbon': 0.0, 'DisassemblyEnergy': 0.0, 'Category': 'Facade', 'Comments': 'default', 'DataSource': 'default', 'Name': 'Boston_Res_Fac_0_WF'}\n",
      "{'$id': '34', 'Layers': [{'Material': {'$ref': '13'}, 'Thickness': 0.2}, {'Material': {'$ref': '23'}, 'Thickness': 0.015}, {'Material': {'$ref': '24'}, 'Thickness': 0.07}, {'Material': {'$ref': '16'}, 'Thickness': 0.015}], 'AssemblyCarbon': 0.0, 'AssemblyCost': 0.0, 'AssemblyEnergy': 0.0, 'DisassemblyCarbon': 0.0, 'DisassemblyEnergy': 0.0, 'Category': 'Facade', 'Comments': 'default', 'DataSource': 'default', 'Name': 'Boston_Ret_Bas_0'}\n",
      "{'$id': '35', 'Layers': [{'Material': {'$ref': '17'}, 'Thickness': 0.06}, {'Material': {'$ref': '20'}, 'Thickness': 0.02}, {'Material': {'$ref': '11'}, 'Thickness': 0.15}, {'Material': {'$ref': '24'}, 'Thickness': 0.05}, {'Material': {'$ref': '16'}, 'Thickness': 0.015}], 'AssemblyCarbon': 0.0, 'AssemblyCost': 0.0, 'AssemblyEnergy': 0.0, 'DisassemblyCarbon': 0.0, 'DisassemblyEnergy': 0.0, 'Category': 'Facade', 'Comments': 'default', 'DataSource': 'default', 'Name': 'Boston_Off_Fac_0'}\n",
      "{'$id': '36', 'Layers': [{'Material': {'$ref': '17'}, 'Thickness': 0.06}, {'Material': {'$ref': '20'}, 'Thickness': 0.02}, {'Material': {'$ref': '11'}, 'Thickness': 0.15}, {'Material': {'$ref': '24'}, 'Thickness': 0.05}, {'Material': {'$ref': '16'}, 'Thickness': 0.015}], 'AssemblyCarbon': 0.0, 'AssemblyCost': 0.0, 'AssemblyEnergy': 0.0, 'DisassemblyCarbon': 0.0, 'DisassemblyEnergy': 0.0, 'Category': 'Facade', 'Comments': 'default', 'DataSource': 'default', 'Name': 'Boston_Ret_Fac_0'}\n",
      "{'$id': '37', 'Layers': [{'Material': {'$ref': '13'}, 'Thickness': 0.2}, {'Material': {'$ref': '23'}, 'Thickness': 0.015}, {'Material': {'$ref': '24'}, 'Thickness': 0.07}, {'Material': {'$ref': '16'}, 'Thickness': 0.015}], 'AssemblyCarbon': 0.0, 'AssemblyCost': 0.0, 'AssemblyEnergy': 0.0, 'DisassemblyCarbon': 0.0, 'DisassemblyEnergy': 0.0, 'Category': 'Facade', 'Comments': 'default', 'DataSource': 'default', 'Name': 'Boston_Off_Bas_0'}\n",
      "{'$id': '38', 'Layers': [{'Material': {'$ref': '14'}, 'Thickness': 0.1}, {'Material': {'$ref': '23'}, 'Thickness': 0.02}, {'Material': {'$ref': '24'}, 'Thickness': 0.12}, {'Material': {'$ref': '18'}, 'Thickness': 0.1}, {'Material': {'$ref': '16'}, 'Thickness': 0.02}], 'AssemblyCarbon': 0.0, 'AssemblyCost': 0.0, 'AssemblyEnergy': 0.0, 'DisassemblyCarbon': 0.0, 'DisassemblyEnergy': 0.0, 'Category': 'Roof', 'Comments': 'default', 'DataSource': 'default', 'Name': 'Boston_Res_Rof_0'}\n",
      "{'$id': '39', 'Layers': [{'Material': {'$ref': '20'}, 'Thickness': 0.1}, {'Material': {'$ref': '14'}, 'Thickness': 0.15}, {'Material': {'$ref': '13'}, 'Thickness': 0.2}, {'Material': {'$ref': '18'}, 'Thickness': 0.15}, {'Material': {'$ref': '16'}, 'Thickness': 0.02}], 'AssemblyCarbon': 0.0, 'AssemblyCost': 0.0, 'AssemblyEnergy': 0.0, 'DisassemblyCarbon': 0.0, 'DisassemblyEnergy': 0.0, 'Category': 'Roof', 'Comments': 'default', 'DataSource': 'default', 'Name': 'Boston_Off_Rof_0'}\n",
      "{'$id': '40', 'Layers': [{'Material': {'$ref': '20'}, 'Thickness': 0.1}, {'Material': {'$ref': '14'}, 'Thickness': 0.15}, {'Material': {'$ref': '13'}, 'Thickness': 0.2}, {'Material': {'$ref': '18'}, 'Thickness': 0.15}, {'Material': {'$ref': '16'}, 'Thickness': 0.02}], 'AssemblyCarbon': 0.0, 'AssemblyCost': 0.0, 'AssemblyEnergy': 0.0, 'DisassemblyCarbon': 0.0, 'DisassemblyEnergy': 0.0, 'Category': 'Roof', 'Comments': 'default', 'DataSource': 'default', 'Name': 'Boston_Ret_Rof_0'}\n",
      "{'$id': '41', 'Layers': [{'Material': {'$ref': '20'}, 'Thickness': 0.02}, {'Material': {'$ref': '13'}, 'Thickness': 0.15}, {'Material': {'$ref': '14'}, 'Thickness': 0.04}, {'Material': {'$ref': '22'}, 'Thickness': 0.03}, {'Material': {'$ref': '19'}, 'Thickness': 0.02}], 'AssemblyCarbon': 0.0, 'AssemblyCost': 0.0, 'AssemblyEnergy': 0.0, 'DisassemblyCarbon': 0.0, 'DisassemblyEnergy': 0.0, 'Category': 'Ground Floor', 'Comments': 'default', 'DataSource': 'default', 'Name': 'Boston_Res_Gro_0'}\n",
      "{'$id': '42', 'Layers': [{'Material': {'$ref': '20'}, 'Thickness': 0.02}, {'Material': {'$ref': '13'}, 'Thickness': 0.15}, {'Material': {'$ref': '14'}, 'Thickness': 0.04}, {'Material': {'$ref': '22'}, 'Thickness': 0.03}, {'Material': {'$ref': '19'}, 'Thickness': 0.02}], 'AssemblyCarbon': 0.0, 'AssemblyCost': 0.0, 'AssemblyEnergy': 0.0, 'DisassemblyCarbon': 0.0, 'DisassemblyEnergy': 0.0, 'Category': 'Ground Floor', 'Comments': 'default', 'DataSource': 'default', 'Name': 'Boston_Off_Gro_0'}\n",
      "{'$id': '43', 'Layers': [{'Material': {'$ref': '20'}, 'Thickness': 0.02}, {'Material': {'$ref': '13'}, 'Thickness': 0.15}, {'Material': {'$ref': '14'}, 'Thickness': 0.04}, {'Material': {'$ref': '22'}, 'Thickness': 0.03}, {'Material': {'$ref': '19'}, 'Thickness': 0.02}], 'AssemblyCarbon': 0.0, 'AssemblyCost': 0.0, 'AssemblyEnergy': 0.0, 'DisassemblyCarbon': 0.0, 'DisassemblyEnergy': 0.0, 'Category': 'Ground Floor', 'Comments': 'default', 'DataSource': 'default', 'Name': 'Boston_Ret_Gro_0'}\n",
      "{'$id': '44', 'Layers': [{'Material': {'$ref': '10'}, 'Thickness': 0.02}, {'Material': {'$ref': '20'}, 'Thickness': 0.01}, {'Material': {'$ref': '23'}, 'Thickness': 0.02}, {'Material': {'$ref': '18'}, 'Thickness': 0.15}, {'Material': {'$ref': '16'}, 'Thickness': 0.02}], 'AssemblyCarbon': 0.0, 'AssemblyCost': 0.0, 'AssemblyEnergy': 0.0, 'DisassemblyCarbon': 0.0, 'DisassemblyEnergy': 0.0, 'Category': 'Interior Floor', 'Comments': 'default', 'DataSource': 'default', 'Name': 'Boston_Res_Inf_0'}\n",
      "{'$id': '45', 'Layers': [{'Material': {'$ref': '25'}, 'Thickness': 0.02}, {'Material': {'$ref': '22'}, 'Thickness': 0.02}, {'Material': {'$ref': '13'}, 'Thickness': 0.15}, {'Material': {'$ref': '18'}, 'Thickness': 0.15}, {'Material': {'$ref': '16'}, 'Thickness': 0.02}], 'AssemblyCarbon': 0.0, 'AssemblyCost': 0.0, 'AssemblyEnergy': 0.0, 'DisassemblyCarbon': 0.0, 'DisassemblyEnergy': 0.0, 'Category': 'Interior Floor', 'Comments': 'default', 'DataSource': 'default', 'Name': 'Boston_Off_Inf_0'}\n",
      "{'$id': '46', 'Layers': [{'Material': {'$ref': '25'}, 'Thickness': 0.02}, {'Material': {'$ref': '22'}, 'Thickness': 0.02}, {'Material': {'$ref': '13'}, 'Thickness': 0.15}, {'Material': {'$ref': '18'}, 'Thickness': 0.15}, {'Material': {'$ref': '16'}, 'Thickness': 0.02}], 'AssemblyCarbon': 0.0, 'AssemblyCost': 0.0, 'AssemblyEnergy': 0.0, 'DisassemblyCarbon': 0.0, 'DisassemblyEnergy': 0.0, 'Category': 'Interior Floor', 'Comments': 'default', 'DataSource': 'default', 'Name': 'Boston_Ret_Inf_0'}\n",
      "{'$id': '47', 'Layers': [{'Material': {'$ref': '26'}, 'Thickness': 0.02}, {'Material': {'$ref': '20'}, 'Thickness': 0.04}, {'Material': {'$ref': '23'}, 'Thickness': 0.02}, {'Material': {'$ref': '20'}, 'Thickness': 0.02}, {'Material': {'$ref': '10'}, 'Thickness': 0.02}], 'AssemblyCarbon': 0.0, 'AssemblyCost': 0.0, 'AssemblyEnergy': 0.0, 'DisassemblyCarbon': 0.0, 'DisassemblyEnergy': 0.0, 'Category': 'Exterior Floor', 'Comments': 'default', 'DataSource': 'default', 'Name': 'Boston_Res_Exf_0'}\n",
      "{'$id': '48', 'Layers': [{'Material': {'$ref': '21'}, 'Thickness': 0.02}, {'Material': {'$ref': '27'}, 'Thickness': 0.02}, {'Material': {'$ref': '21'}, 'Thickness': 0.02}], 'AssemblyCarbon': 0.0, 'AssemblyCost': 0.0, 'AssemblyEnergy': 0.0, 'DisassemblyCarbon': 0.0, 'DisassemblyEnergy': 0.0, 'Category': 'Partition', 'Comments': 'default', 'DataSource': 'default', 'Name': 'Boston_Off_Par_0'}\n",
      "{'$id': '49', 'Layers': [{'Material': {'$ref': '21'}, 'Thickness': 0.02}, {'Material': {'$ref': '27'}, 'Thickness': 0.02}, {'Material': {'$ref': '21'}, 'Thickness': 0.02}], 'AssemblyCarbon': 0.0, 'AssemblyCost': 0.0, 'AssemblyEnergy': 0.0, 'DisassemblyCarbon': 0.0, 'DisassemblyEnergy': 0.0, 'Category': 'Partition', 'Comments': 'default', 'DataSource': 'default', 'Name': 'Boston_Ret_Par_0'}\n",
      "{'$id': '50', 'Layers': [{'Material': {'$ref': '21'}, 'Thickness': 0.02}, {'Material': {'$ref': '27'}, 'Thickness': 0.02}, {'Material': {'$ref': '21'}, 'Thickness': 0.02}], 'AssemblyCarbon': 0.0, 'AssemblyCost': 0.0, 'AssemblyEnergy': 0.0, 'DisassemblyCarbon': 0.0, 'DisassemblyEnergy': 0.0, 'Category': 'Partition', 'Comments': 'default', 'DataSource': 'default', 'Name': 'Boston_Res_Par_0'}\n",
      "{'$id': '51', 'Layers': [{'Material': {'$ref': '13'}, 'Thickness': 0.15}, {'Material': {'$ref': '20'}, 'Thickness': 0.04}, {'Material': {'$ref': '22'}, 'Thickness': 0.02}, {'Material': {'$ref': '25'}, 'Thickness': 0.02}], 'AssemblyCarbon': 0.0, 'AssemblyCost': 0.0, 'AssemblyEnergy': 0.0, 'DisassemblyCarbon': 0.0, 'DisassemblyEnergy': 0.0, 'Category': 'Exterior Floor', 'Comments': 'default', 'DataSource': 'default', 'Name': 'Boston_Off_Exf_0'}\n",
      "{'$id': '52', 'Layers': [{'Material': {'$ref': '13'}, 'Thickness': 0.15}, {'Material': {'$ref': '20'}, 'Thickness': 0.04}, {'Material': {'$ref': '22'}, 'Thickness': 0.02}, {'Material': {'$ref': '25'}, 'Thickness': 0.02}], 'AssemblyCarbon': 0.0, 'AssemblyCost': 0.0, 'AssemblyEnergy': 0.0, 'DisassemblyCarbon': 0.0, 'DisassemblyEnergy': 0.0, 'Category': 'Exterior Floor', 'Comments': 'default', 'DataSource': 'default', 'Name': 'Boston_Ret_Exf_0'}\n",
      "{'$id': '53', 'Layers': [{'Material': {'$ref': '21'}, 'Thickness': 0.02}, {'Material': {'$ref': '27'}, 'Thickness': 0.02}, {'Material': {'$ref': '21'}, 'Thickness': 0.02}], 'AssemblyCarbon': 0.0, 'AssemblyCost': 0.0, 'AssemblyEnergy': 0.0, 'DisassemblyCarbon': 0.0, 'DisassemblyEnergy': 0.0, 'Category': 'ThermalMass', 'Comments': 'default', 'DataSource': 'default', 'Name': 'Boston_Res_Thm_0'}\n",
      "{'$id': '54', 'Layers': [{'Material': {'$ref': '21'}, 'Thickness': 0.02}, {'Material': {'$ref': '27'}, 'Thickness': 0.02}, {'Material': {'$ref': '21'}, 'Thickness': 0.02}], 'AssemblyCarbon': 0.0, 'AssemblyCost': 0.0, 'AssemblyEnergy': 0.0, 'DisassemblyCarbon': 0.0, 'DisassemblyEnergy': 0.0, 'Category': 'ThermalMass', 'Comments': 'default', 'DataSource': 'default', 'Name': 'Boston_Off_Thm_0'}\n",
      "{'$id': '55', 'Layers': [{'Material': {'$ref': '21'}, 'Thickness': 0.02}, {'Material': {'$ref': '27'}, 'Thickness': 0.02}, {'Material': {'$ref': '21'}, 'Thickness': 0.02}], 'AssemblyCarbon': 0.0, 'AssemblyCost': 0.0, 'AssemblyEnergy': 0.0, 'DisassemblyCarbon': 0.0, 'DisassemblyEnergy': 0.0, 'Category': 'ThermalMass', 'Comments': 'default', 'DataSource': 'default', 'Name': 'Boston_Ret_Thm_0'}\n",
      "{'$id': '56', 'Layers': [{'Material': {'$ref': '17'}, 'Thickness': 0.06}, {'Material': {'$ref': '20'}, 'Thickness': 0.02}, {'Material': {'$ref': '11'}, 'Thickness': 0.15}, {'Material': {'$ref': '24'}, 'Thickness': 0.05}, {'Material': {'$ref': '16'}, 'Thickness': 0.015}], 'AssemblyCarbon': 0.0, 'AssemblyCost': 0.0, 'AssemblyEnergy': 0.0, 'DisassemblyCarbon': 0.0, 'DisassemblyEnergy': 0.0, 'Category': 'Facade', 'Comments': 'default', 'DataSource': 'default', 'Name': 'Boston_Res_Fac_0_MS'}\n"
     ]
    }
   ],
   "source": [
    "# GasMaterials O - 모두 0\n",
    "# GlazingMaterials O - 모두 0.9\n",
    "# OpaqueMaterials O\n",
    "# ->다양함, 0.14, 1.25, 0.1, 1.75, 1.65, 1.77, 0.16, 0.41, 0.7, 0.8, 0.037, 0.42, 0.8, 0.11, 0.043, 0.045, 0.16, 0.13, 1.59, 0.04, 0.16, 45.3\n",
    "\n",
    "# OpaqueConstructions X\n",
    "# WindowConstructions X\n",
    "# StructureDefinitions X\n",
    "\n",
    "for d in data['OpaqueConstructions']:\n",
    "    print(d)"
   ]
  },
  {
   "cell_type": "code",
   "execution_count": 26,
   "id": "8ded54e0",
   "metadata": {},
   "outputs": [
    {
     "name": "stdout",
     "output_type": "stream",
     "text": [
      "{'$id': '57', 'Layers': [{'Material': {'$ref': '7'}, 'Thickness': 0.003}, {'Material': {'$ref': '1'}, 'Thickness': 0.006}, {'Material': {'$ref': '7'}, 'Thickness': 0.003}], 'AssemblyCarbon': 0.0, 'AssemblyCost': 0.0, 'AssemblyEnergy': 0.0, 'DisassemblyCarbon': 0.0, 'DisassemblyEnergy': 0.0, 'Category': 'Double', 'Comments': 'default', 'DataSource': 'default', 'Name': 'Boston_Dbl_Air_Cl'}\n",
      "{'$id': '58', 'Layers': [{'Material': {'$ref': '9'}, 'Thickness': 0.003}, {'Material': {'$ref': '1'}, 'Thickness': 0.006}, {'Material': {'$ref': '7'}, 'Thickness': 0.003}], 'AssemblyCarbon': 0.0, 'AssemblyCost': 0.0, 'AssemblyEnergy': 0.0, 'DisassemblyCarbon': 0.0, 'DisassemblyEnergy': 0.0, 'Category': 'Double', 'Comments': 'default', 'DataSource': 'default', 'Name': 'Boston_Dbl_Air_Le'}\n",
      "{'$id': '59', 'Layers': [{'Material': {'$ref': '7'}, 'Thickness': 0.003}, {'Material': {'$ref': '2'}, 'Thickness': 0.006}, {'Material': {'$ref': '7'}, 'Thickness': 0.003}], 'AssemblyCarbon': 0.0, 'AssemblyCost': 0.0, 'AssemblyEnergy': 0.0, 'DisassemblyCarbon': 0.0, 'DisassemblyEnergy': 0.0, 'Category': 'Double', 'Comments': 'default', 'DataSource': 'default', 'Name': 'Boston_Dbl_Arg_Cl'}\n",
      "{'$id': '60', 'Layers': [{'Material': {'$ref': '9'}, 'Thickness': 0.003}, {'Material': {'$ref': '2'}, 'Thickness': 0.006}, {'Material': {'$ref': '7'}, 'Thickness': 0.003}], 'AssemblyCarbon': 0.0, 'AssemblyCost': 0.0, 'AssemblyEnergy': 0.0, 'DisassemblyCarbon': 0.0, 'DisassemblyEnergy': 0.0, 'Category': 'Double', 'Comments': 'default', 'DataSource': 'default', 'Name': 'Boston_Dbl_Arg_Le'}\n",
      "{'$id': '61', 'Layers': [{'Material': {'$ref': '6'}, 'Thickness': 0.004}], 'AssemblyCarbon': 0.0, 'AssemblyCost': 0.0, 'AssemblyEnergy': 0.0, 'DisassemblyCarbon': 0.0, 'DisassemblyEnergy': 0.0, 'Category': 'Single', 'Comments': 'default', 'DataSource': 'default', 'Name': 'Boston_Sng_Cl'}\n"
     ]
    }
   ],
   "source": [
    "for d in data['WindowConstructions']:\n",
    "    print(d)"
   ]
  },
  {
   "cell_type": "code",
   "execution_count": null,
   "id": "0fa8697c",
   "metadata": {},
   "outputs": [],
   "source": []
  }
 ],
 "metadata": {
  "kernelspec": {
   "display_name": "e_pred_proj",
   "language": "python",
   "name": "e_pred_proj"
  },
  "language_info": {
   "codemirror_mode": {
    "name": "ipython",
    "version": 3
   },
   "file_extension": ".py",
   "mimetype": "text/x-python",
   "name": "python",
   "nbconvert_exporter": "python",
   "pygments_lexer": "ipython3",
   "version": "3.10.12"
  }
 },
 "nbformat": 4,
 "nbformat_minor": 5
}
